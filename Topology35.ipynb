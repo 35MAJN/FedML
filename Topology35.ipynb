%%capture
!git clone "https://github.com/FedML-AI/FedML.git"
!pip install fedml

from fedml.data.MNIST.data_loader import download_mnist
download_mnist('/root/fedml_data/')

import json
with open("/root/fedml_data/MNIST/train/all_data_0_niid_0_keep_10_train_9.json") as f:
  doc = json.load(f)
  f.close()
with open("/root/fedml_data/MNIST/test/all_data_0_niid_0_keep_10_test_9.json") as f:
  testdoc = json.load(f)
  f.close()
  
  #Train
for key in doc['user_data'].keys():
  usr = doc['user_data'][key]
  usr['x'] = usr['x'][:6]
  usr['y'] = usr['y'][:6]

  doc['user_data'][key] = usr


with open("/root/fedml_data/MNIST/train/all_data_0_niid_0_keep_10_train_9_reduced.json", "w") as f:
  json.dump(doc, f)
  f.close()

#test
for key in testdoc['user_data'].keys():
  usr = testdoc['user_data'][key]
  usr['x'] = usr['x'][:1]
  usr['y'] = usr['y'][:1]

  testdoc['user_data'][key] = usr


with open("/root/fedml_data/MNIST/test/all_data_0_niid_0_keep_10_test_9_reduced.json", "w") as f:
  json.dump(testdoc, f)
  f.close()
  
  
import numpy as np
with open("/root/fedml_data/MNIST/train/all_data_0_niid_0_keep_10_train_9_reduced.json") as f:
  train1 = json.load(f)
  print('# of examples in reduced train dataset: ' + str(np.array(train1['user_data']['f_00035']['x']).shape[0]*1000))
  f.close()

with open("/root/fedml_data/MNIST/test/all_data_0_niid_0_keep_10_test_9_reduced.json") as f:
  test1 = json.load(f)
  print('# of examples in reduced test dataset: ' + str(np.array(test1['user_data']['f_00035']['x']).shape[0]*1000))
  f.close()
  
  
  
  
import os
os.remove("/root/fedml_data/MNIST/train/all_data_0_niid_0_keep_10_train_9.json")
os.remove("/root/fedml_data/MNIST/test/all_data_0_niid_0_keep_10_test_9.json")
os.rename('/root/fedml_data/MNIST/test/all_data_0_niid_0_keep_10_test_9_reduced.json' , '/root/fedml_data/MNIST/test/all_data_0_niid_0_keep_10_test_9.json')
os.rename('/root/fedml_data/MNIST/train/all_data_0_niid_0_keep_10_train_9_reduced.json' , '/root/fedml_data/MNIST/train/all_data_0_niid_0_keep_10_train_9.json')

filename = '/content/FedML/python/examples/cross_silo/mqtt_s3_fedavg_mnist_lr_example/custom_data_and_model/torch_client.py'
line_number = 10
with open(filename, 'r') as f:
    lines = f.readlines()
print(lines[line_number-1])
if lines[line_number-1].find('#    download_mnist(args.data_cache_dir)') < 0:
  lines[line_number-1] = f"#{lines[line_number-1]}"
  lines[line_number] = f"#{lines[line_number]}"
  lines[31] = '    \n'
  lines[32] = '    \n'
  lines[33] = "    print('train_data_num: ' + str(train_data_num))\n"
  lines[34] = "    print('test_data_num: ' + str(test_data_num))\n"


with open(filename, 'w') as f:
    f.writelines(lines)
  
filename = '/content/FedML/python/examples/cross_silo/mqtt_s3_fedavg_mnist_lr_example/custom_data_and_model/torch_server.py'
line_number = 9
with open(filename, 'r') as f:
    lines = f.readlines()

if lines[line_number-1].find('#    download_mnist(args.data_cache_dir)') < 0:
  lines[line_number-1] = f"#{lines[line_number-1]}"
  lines[line_number] = f"#{lines[line_number]}"
  lines[30] = '    \n'
  lines[31] = '    \n'
  lines[32] = "    print('train_data_num: ' + str(train_data_num))\n"
  lines[33] = "    print('test_data_num: ' + str(test_data_num))\n"

with open(filename, 'w') as f:
    f.writelines(lines)



-------------------
import yaml
server = servers[0]
clients = server.nearSattelites[:2]

# lines = ['mapping_default:\n', '  node_1: [' + str(len(clients) + 1) + ']\n' ]
# with open('/content/FedML/python/examples/cross_silo/mqtt_s3_fedavg_mnist_lr_example/custom_data_and_model/config/gpu_mapping.yaml', 'w') as f:
#     f.writelines(lines)



with open("/content/FedML/python/examples/cross_silo/mqtt_s3_fedavg_mnist_lr_example/custom_data_and_model/config/fedml_config.yaml") as f:
    doc = yaml.safe_load(f)
    doc["device_args"]['worker_num'] = len(clients)
    doc["device_args"]['using_gpu'] = False
    doc["train_args"]['client_num_per_round'] = len(clients)
    doc["train_args"]['client_num_in_total'] = len(clients)

with open("/content/FedML/python/examples/cross_silo/mqtt_s3_fedavg_mnist_lr_example/custom_data_and_model/config/fedml_config.yaml", "w") as f:
    yaml.dump(doc, f)
    
    def run_command_in_thread(command):
    process = subprocess.Popen(command, shell=True, stdout=subprocess.PIPE, stderr=subprocess.PIPE)
    stdout, stderr = process.communicate()
    print(f"Output of {command}: {stdout.decode('utf-8')}")
    print(f"Error of {command}: {stderr.decode('utf-8')}")

# Define the shell commands to run
commands = ['bash run_server.sh ']
i = 1
for client in clients:
  commands.append("bash run_client.sh " + str(i))  #bash run_client.sh 1 your_run_id
  i += 1

# Create a thread for each command
threads = [threading.Thread(target=run_command_in_thread, args=(command,)) for command in commands]

# Start the threads
for thread in threads:
    thread.start()

# Wait for all threads to finish
for thread in threads:
    thread.join()
%cd /content/FedML/python/examples/cross_silo/mqtt_s3_fedavg_mnist_lr_example/custom_data_and_model/
